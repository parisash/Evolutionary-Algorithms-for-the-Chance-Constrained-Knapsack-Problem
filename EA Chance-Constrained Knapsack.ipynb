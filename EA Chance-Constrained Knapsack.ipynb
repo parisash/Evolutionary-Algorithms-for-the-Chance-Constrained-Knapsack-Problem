{
 "cells": [
  {
   "cell_type": "markdown",
   "metadata": {},
   "source": [
    "# Imports:"
   ]
  },
  {
   "cell_type": "code",
   "execution_count": 1,
   "metadata": {},
   "outputs": [],
   "source": [
    "import numpy as np\n",
    "import os"
   ]
  },
  {
   "cell_type": "markdown",
   "metadata": {},
   "source": [
    "# Data Preparation:"
   ]
  },
  {
   "cell_type": "code",
   "execution_count": 2,
   "metadata": {},
   "outputs": [],
   "source": [
    "root_dir = r\"Data/\"\n",
    "file_names = os.listdir(root_dir)\n",
    "datasets = {}\n",
    "for file in file_names:\n",
    "    with open(root_dir + file) as f:\n",
    "        lines = f.readlines()\n",
    "        for line in lines:\n",
    "            if line.startswith(\"ITEMS SECTION\"):\n",
    "                data_start = lines.index(line) + 1\n",
    "                break\n",
    "            elif line.startswith(\"CAPACITY OF KNAPSACK:\"):\n",
    "                cap = int(line.split(\"\\t\")[-1])\n",
    "        mat = np.zeros((len(lines) - data_start, 2), dtype=np.int32)\n",
    "        for i in range(data_start, len(lines)):\n",
    "            (_, mat[i - data_start, 0], mat[i - data_start, 1], _) = lines[i].split('\\t')\n",
    "        datasets[file] = mat, cap"
   ]
  },
  {
   "cell_type": "markdown",
   "metadata": {},
   "source": [
    "# Define Functions:"
   ]
  },
  {
   "cell_type": "code",
   "execution_count": 3,
   "metadata": {},
   "outputs": [],
   "source": [
    "def f(x, avg_w, values, _B, _ALPHA, _DELTA, _USE_CHEBYSHEV):\n",
    "    x = np.array(x, dtype=np.float64)\n",
    "    avg_w = np.array(avg_w, dtype=np.float64)\n",
    "    exp_sum_w = np.dot(x, avg_w)\n",
    "    sum_v = np.dot(x, values)\n",
    "    sig_x_i = np.sum(x, dtype=np.float64)\n",
    "    delta = _DELTA\n",
    "    if _USE_CHEBYSHEV: # uniform Chebyshev:\n",
    "        PWB = (delta ** 2.0) * sig_x_i / ((delta ** 2.0) * sig_x_i + 3.0 * (_B - exp_sum_w) ** 2.0)\n",
    "    else: # chernoff:\n",
    "        if sig_x_i != 0.0:\n",
    "            denum_base = ((delta * sig_x_i + _B - exp_sum_w) / (delta * sig_x_i))\n",
    "            PWB = (np.exp((_B - exp_sum_w) / (delta * sig_x_i)) / np.float_power(denum_base, denum_base)) ** (sig_x_i / 2.0)\n",
    "            if np.isnan(PWB):\n",
    "                PWB = 1.0\n",
    "        else:\n",
    "            PWB = 0.0\n",
    "    return max(0.0, exp_sum_w - _B), max(0.0, PWB - _ALPHA), sum_v\n",
    "\n",
    "def lex_compare(f1, f2):\n",
    "    if f1[0] > f2[0] or (f1[0] == f2[0] and f1[1] > f2[1]) or (f1[0] == f2[0] and f1[1] == f2[1] and f1[2] < f2[2]):\n",
    "        return 2\n",
    "    else:\n",
    "        return 1"
   ]
  },
  {
   "cell_type": "markdown",
   "metadata": {},
   "source": [
    "# Main Algorithm Loop:"
   ]
  },
  {
   "cell_type": "code",
   "execution_count": 13,
   "metadata": {},
   "outputs": [
    {
     "name": "stdout",
     "output_type": "stream",
     "text": [
      "||||||||||||||||||||||||||||||||||||||||||||||||||||||||||||||||||||||||||||||||||||||||||||||||||||||||||||||||||||||||\n",
      "eil101_n100_bounded-strongly-corr_01[1].ttp\n"
     ]
    },
    {
     "name": "stderr",
     "output_type": "stream",
     "text": [
      "<ipython-input-3-7d940d4e65ac>:13: RuntimeWarning: invalid value encountered in float_power\n",
      "  PWB = (np.exp((_B - exp_sum_w) / (delta * sig_x_i)) / np.float_power(denum_base, denum_base)) ** (sig_x_i / 2.0)\n",
      "<ipython-input-3-7d940d4e65ac>:13: RuntimeWarning: invalid value encountered in double_scalars\n",
      "  PWB = (np.exp((_B - exp_sum_w) / (delta * sig_x_i)) / np.float_power(denum_base, denum_base)) ** (sig_x_i / 2.0)\n"
     ]
    },
    {
     "name": "stdout",
     "output_type": "stream",
     "text": [
      "(u(x),v(x),P(x)):\t (0.0, 0.0, 14754.0)\n",
      "(u(x),v(x),P(x)):\t (0.0, 0.0, 14747.0)\n"
     ]
    },
    {
     "ename": "KeyboardInterrupt",
     "evalue": "",
     "output_type": "error",
     "traceback": [
      "\u001b[1;31m---------------------------------------------------------------------------\u001b[0m",
      "\u001b[1;31mKeyboardInterrupt\u001b[0m                         Traceback (most recent call last)",
      "\u001b[1;32m<ipython-input-13-2eb1bbc4d958>\u001b[0m in \u001b[0;36m<module>\u001b[1;34m\u001b[0m\n\u001b[0;32m     37\u001b[0m                 \u001b[1;31m# print(\"*\" * 10)\u001b[0m\u001b[1;33m\u001b[0m\u001b[1;33m\u001b[0m\u001b[1;33m\u001b[0m\u001b[0m\n\u001b[0;32m     38\u001b[0m                 \u001b[1;32mfor\u001b[0m \u001b[0m_\u001b[0m \u001b[1;32min\u001b[0m \u001b[0mrange\u001b[0m\u001b[1;33m(\u001b[0m\u001b[0m_MAX_ITER\u001b[0m\u001b[1;33m)\u001b[0m\u001b[1;33m:\u001b[0m\u001b[1;33m\u001b[0m\u001b[1;33m\u001b[0m\u001b[0m\n\u001b[1;32m---> 39\u001b[1;33m                     \u001b[0my\u001b[0m \u001b[1;33m=\u001b[0m \u001b[0mnp\u001b[0m\u001b[1;33m.\u001b[0m\u001b[0mrandom\u001b[0m\u001b[1;33m.\u001b[0m\u001b[0mbinomial\u001b[0m\u001b[1;33m(\u001b[0m\u001b[1;36m1\u001b[0m\u001b[1;33m,\u001b[0m \u001b[1;36m1.0\u001b[0m \u001b[1;33m/\u001b[0m \u001b[0mn\u001b[0m\u001b[1;33m,\u001b[0m \u001b[1;33m(\u001b[0m\u001b[0mn\u001b[0m\u001b[1;33m,\u001b[0m\u001b[1;33m)\u001b[0m\u001b[1;33m)\u001b[0m\u001b[1;33m\u001b[0m\u001b[1;33m\u001b[0m\u001b[0m\n\u001b[0m\u001b[0;32m     40\u001b[0m                     \u001b[1;32mwhile\u001b[0m \u001b[1;33m(\u001b[0m\u001b[0my\u001b[0m \u001b[1;33m==\u001b[0m \u001b[0mnp\u001b[0m\u001b[1;33m.\u001b[0m\u001b[0mzeros_like\u001b[0m\u001b[1;33m(\u001b[0m\u001b[0my\u001b[0m\u001b[1;33m)\u001b[0m\u001b[1;33m)\u001b[0m\u001b[1;33m.\u001b[0m\u001b[0mall\u001b[0m\u001b[1;33m(\u001b[0m\u001b[1;33m)\u001b[0m\u001b[1;33m:\u001b[0m\u001b[1;33m\u001b[0m\u001b[1;33m\u001b[0m\u001b[0m\n\u001b[0;32m     41\u001b[0m                         \u001b[0my\u001b[0m \u001b[1;33m=\u001b[0m \u001b[0mnp\u001b[0m\u001b[1;33m.\u001b[0m\u001b[0mrandom\u001b[0m\u001b[1;33m.\u001b[0m\u001b[0mbinomial\u001b[0m\u001b[1;33m(\u001b[0m\u001b[1;36m1\u001b[0m\u001b[1;33m,\u001b[0m \u001b[1;36m1.0\u001b[0m \u001b[1;33m/\u001b[0m \u001b[0mn\u001b[0m\u001b[1;33m,\u001b[0m \u001b[1;33m(\u001b[0m\u001b[0mn\u001b[0m\u001b[1;33m,\u001b[0m\u001b[1;33m)\u001b[0m\u001b[1;33m)\u001b[0m\u001b[1;33m\u001b[0m\u001b[1;33m\u001b[0m\u001b[0m\n",
      "\u001b[1;31mKeyboardInterrupt\u001b[0m: "
     ]
    }
   ],
   "source": [
    "_MAX_ITER = 100000\n",
    "_alpha_delta_settings = [\n",
    "    (0.0001, 25),\n",
    "    (0.0001, 50),\n",
    "    (0.001, 25),\n",
    "    (0.001, 50),\n",
    "    (0.01, 25),\n",
    "    (0.01, 50),\n",
    "]\n",
    "for dataset_idx in range(len(file_names)):\n",
    "    print('|' * 120)\n",
    "    print(file_names[dataset_idx])\n",
    "    dataset = np.array(datasets[file_names[dataset_idx]][0])\n",
    "    _B_ORIG = datasets[file_names[dataset_idx]][1]\n",
    "    avg_w = dataset[:, 1]\n",
    "    v = dataset[:, 0]\n",
    "    n = dataset.shape[0]\n",
    "    k = 0\n",
    "    _GAMMA = 100\n",
    "    remains = _B_ORIG\n",
    "    idxs = np.argsort(avg_w)\n",
    "    for i in idxs:\n",
    "        if remains - avg_w[i] < 0:\n",
    "            break\n",
    "        remains -= avg_w[i]\n",
    "        k += 1\n",
    "    _B = _B_ORIG + k * _GAMMA\n",
    "    for i in range(avg_w.shape[0]):\n",
    "        avg_w[i] += _GAMMA\n",
    "    for _ALPHA, _DELTA in _alpha_delta_settings:\n",
    "        for _CHEBYSHEV in [False, True]:\n",
    "            # Main loop\n",
    "            results = []\n",
    "            for _ in range(30):\n",
    "                x = np.random.randint(0, 2, (n,))\n",
    "                f_x = f(x, avg_w, v, _B, _ALPHA, _DELTA, _CHEBYSHEV)\n",
    "                # print(\"*\" * 10)\n",
    "                for _ in range(_MAX_ITER):\n",
    "                    y = np.random.binomial(1, 1.0 / n, (n,))\n",
    "                    while (y == np.zeros_like(y)).all():\n",
    "                        y = np.random.binomial(1, 1.0 / n, (n,))\n",
    "                    y_ = np.logical_xor(x, y)\n",
    "                    f_y = f(y_, avg_w, v, _B, _ALPHA, _DELTA, _CHEBYSHEV)\n",
    "                    if lex_compare(f_y, f_x) == 1:\n",
    "                        x = y_\n",
    "                        f_x = f_y\n",
    "                print(\"(u(x),v(x),P(x)):\\t\", f_x)\n",
    "                results.append(f_x[2])\n",
    "                if f_x[0] != 0:\n",
    "                    print(\"KNAPSACK Broken Error:\", f_x)\n",
    "            if _CHEBYSHEV:\n",
    "                mod_str = \"Chebyshev\"\n",
    "            else:\n",
    "                mod_str = \"Chernoff \"\n",
    "            print(\"_ALPHA:\", _ALPHA, \"\\t_DELTA:\", _DELTA, \"\\tMode:\", mod_str, \"\\tProfit:\", np.mean(results))\n",
    "            print(results)\n",
    "            print('     ' + '=' * 110)"
   ]
  },
  {
   "cell_type": "code",
   "execution_count": null,
   "metadata": {},
   "outputs": [],
   "source": []
  },
  {
   "cell_type": "code",
   "execution_count": null,
   "metadata": {},
   "outputs": [],
   "source": []
  },
  {
   "cell_type": "code",
   "execution_count": null,
   "metadata": {},
   "outputs": [],
   "source": []
  }
 ],
 "metadata": {
  "kernelspec": {
   "display_name": "Python 3",
   "language": "python",
   "name": "python3"
  },
  "language_info": {
   "codemirror_mode": {
    "name": "ipython",
    "version": 3
   },
   "file_extension": ".py",
   "mimetype": "text/x-python",
   "name": "python",
   "nbconvert_exporter": "python",
   "pygments_lexer": "ipython3",
   "version": "3.8.5"
  }
 },
 "nbformat": 4,
 "nbformat_minor": 4
}
